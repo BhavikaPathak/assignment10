{
 "cells": [
  {
   "cell_type": "code",
   "execution_count": 3,
   "id": "044d8b0f-6921-41d6-a898-749fa862eac1",
   "metadata": {},
   "outputs": [],
   "source": [
    "#                            ANSWER 1 \n",
    "#An exception is an event, which occurs during the execution of a program that disrupts the normal flow of the program's instructions.\n",
    "#difference between Exceptions and syntax error\n",
    "#Exceptions: Exceptions are raised when the program is syntactically correct, but the code resulted in an error. This error does not stop the execution of the program, however, it changes the normal flow of the program.\n",
    "#Syntax Error: As the name suggests this error is caused by the wrong syntax in the code. It leads to the termination of the program. "
   ]
  },
  {
   "cell_type": "code",
   "execution_count": 5,
   "id": "49d59f3f-9497-4d36-bb5c-21279555b2ea",
   "metadata": {},
   "outputs": [
    {
     "name": "stdout",
     "output_type": "stream",
     "text": [
      "Some error\n",
      "Out of try except blocks.\n"
     ]
    }
   ],
   "source": [
    "#                          ANSWER 2\n",
    "#If the exception is not handled by an except clause, the exception is re-raised after the finally clause has been executed.\n",
    "try:\n",
    "    a=5\n",
    "    b='0'\n",
    "    print(a/b)\n",
    "except:\n",
    "    print('Some error')\n",
    "print(\"Out of try except blocks.\")"
   ]
  },
  {
   "cell_type": "code",
   "execution_count": 8,
   "id": "3026ca5f-f398-4a97-b4fc-e53413efebec",
   "metadata": {},
   "outputs": [
    {
     "name": "stdout",
     "output_type": "stream",
     "text": [
      "this is my except block [Errno 2] No such file or directory: 'tect.txt'\n"
     ]
    }
   ],
   "source": [
    "#                           ANSWER 3\n",
    "#The try and except block in Python is used to catch and handle exceptions.\n",
    "try :\n",
    "    f = open(\"tect.txt\",'r')\n",
    "    f.write(\"write something into my file\")\n",
    "except Exception as e :\n",
    "    print(\"this is my except block\",e)"
   ]
  },
  {
   "cell_type": "code",
   "execution_count": 20,
   "id": "c1412492-d1d4-4fc9-8a00-10294ea06ac7",
   "metadata": {},
   "outputs": [
    {
     "name": "stdout",
     "output_type": "stream",
     "text": [
      "this is my except block [Errno 2] No such file or directory: 'tect.txt'\n",
      "finally will itself in any situation\n"
     ]
    },
    {
     "ename": "FileNotFoundError",
     "evalue": "[Errno 2] No such file or directory: 'tect.txt'",
     "output_type": "error",
     "traceback": [
      "\u001b[0;31m---------------------------------------------------------------------------\u001b[0m",
      "\u001b[0;31mFileNotFoundError\u001b[0m                         Traceback (most recent call last)",
      "Cell \u001b[0;32mIn[20], line 14\u001b[0m\n\u001b[1;32m     12\u001b[0m \u001b[38;5;66;03m#Finally: Finally block always gets executed either exception is generated or not\u001b[39;00m\n\u001b[1;32m     13\u001b[0m \u001b[38;5;28;01mtry\u001b[39;00m :\n\u001b[0;32m---> 14\u001b[0m     f \u001b[38;5;241m=\u001b[39m \u001b[38;5;28;43mopen\u001b[39;49m\u001b[43m(\u001b[49m\u001b[38;5;124;43m\"\u001b[39;49m\u001b[38;5;124;43mtect.txt\u001b[39;49m\u001b[38;5;124;43m\"\u001b[39;49m\u001b[43m,\u001b[49m\u001b[38;5;124;43m'\u001b[39;49m\u001b[38;5;124;43mr\u001b[39;49m\u001b[38;5;124;43m'\u001b[39;49m\u001b[43m)\u001b[49m\n\u001b[1;32m     15\u001b[0m     f\u001b[38;5;241m.\u001b[39mwrite(\u001b[38;5;124m\"\u001b[39m\u001b[38;5;124mwrite something into my file\u001b[39m\u001b[38;5;124m\"\u001b[39m)\n\u001b[1;32m     16\u001b[0m \u001b[38;5;28;01mfinally\u001b[39;00m :\n",
      "File \u001b[0;32m/opt/conda/lib/python3.10/site-packages/IPython/core/interactiveshell.py:282\u001b[0m, in \u001b[0;36m_modified_open\u001b[0;34m(file, *args, **kwargs)\u001b[0m\n\u001b[1;32m    275\u001b[0m \u001b[38;5;28;01mif\u001b[39;00m file \u001b[38;5;129;01min\u001b[39;00m {\u001b[38;5;241m0\u001b[39m, \u001b[38;5;241m1\u001b[39m, \u001b[38;5;241m2\u001b[39m}:\n\u001b[1;32m    276\u001b[0m     \u001b[38;5;28;01mraise\u001b[39;00m \u001b[38;5;167;01mValueError\u001b[39;00m(\n\u001b[1;32m    277\u001b[0m         \u001b[38;5;124mf\u001b[39m\u001b[38;5;124m\"\u001b[39m\u001b[38;5;124mIPython won\u001b[39m\u001b[38;5;124m'\u001b[39m\u001b[38;5;124mt let you open fd=\u001b[39m\u001b[38;5;132;01m{\u001b[39;00mfile\u001b[38;5;132;01m}\u001b[39;00m\u001b[38;5;124m by default \u001b[39m\u001b[38;5;124m\"\u001b[39m\n\u001b[1;32m    278\u001b[0m         \u001b[38;5;124m\"\u001b[39m\u001b[38;5;124mas it is likely to crash IPython. If you know what you are doing, \u001b[39m\u001b[38;5;124m\"\u001b[39m\n\u001b[1;32m    279\u001b[0m         \u001b[38;5;124m\"\u001b[39m\u001b[38;5;124myou can use builtins\u001b[39m\u001b[38;5;124m'\u001b[39m\u001b[38;5;124m open.\u001b[39m\u001b[38;5;124m\"\u001b[39m\n\u001b[1;32m    280\u001b[0m     )\n\u001b[0;32m--> 282\u001b[0m \u001b[38;5;28;01mreturn\u001b[39;00m \u001b[43mio_open\u001b[49m\u001b[43m(\u001b[49m\u001b[43mfile\u001b[49m\u001b[43m,\u001b[49m\u001b[43m \u001b[49m\u001b[38;5;241;43m*\u001b[39;49m\u001b[43margs\u001b[49m\u001b[43m,\u001b[49m\u001b[43m \u001b[49m\u001b[38;5;241;43m*\u001b[39;49m\u001b[38;5;241;43m*\u001b[39;49m\u001b[43mkwargs\u001b[49m\u001b[43m)\u001b[49m\n",
      "\u001b[0;31mFileNotFoundError\u001b[0m: [Errno 2] No such file or directory: 'tect.txt'"
     ]
    }
   ],
   "source": [
    "#                             ANSWER 4 (a)\n",
    "#Try: This block will test the excepted error to occur\n",
    "#Else: If there is no exception then this block will be executed\n",
    "try :\n",
    "    f = open(\"tect.txt\",'r')\n",
    "    f.write(\"write something into my file\")\n",
    "except Exception as e :\n",
    "    print(\"this is my except block\",e)\n",
    "else :\n",
    "    f.close()\n",
    "    print(\"this will be executed once your try will execute without error\")\n",
    "#Finally: Finally block always gets executed either exception is generated or not\n",
    "try :\n",
    "    f = open(\"tect.txt\",'r')\n",
    "    f.write(\"write something into my file\")\n",
    "finally :\n",
    "    print(\"finally will itself in any situation\")    "
   ]
  },
  {
   "cell_type": "code",
   "execution_count": 21,
   "id": "bfbdaa8c-859e-4f25-b995-41d435d9827e",
   "metadata": {},
   "outputs": [
    {
     "name": "stdout",
     "output_type": "stream",
     "text": [
      "this is my except block [Errno 2] No such file or directory: 'tect.txt'\n",
      "finally will itself in any situation\n"
     ]
    }
   ],
   "source": [
    "#                                     ANSWER 4 (B)\n",
    "try :\n",
    "    f = open(\"tect.txt\",'r')\n",
    "    f.write(\"write something into my file\")\n",
    "except Exception as e :\n",
    "    print(\"this is my except block\",e)\n",
    "finally :\n",
    "    print(\"finally will itself in any situation\")\n",
    "    "
   ]
  },
  {
   "cell_type": "code",
   "execution_count": 37,
   "id": "335f68c3-00c9-4f21-b2e6-f4749d2dbdd8",
   "metadata": {},
   "outputs": [
    {
     "name": "stdin",
     "output_type": "stream",
     "text": [
      "enter how much salary you want 500000\n"
     ]
    },
    {
     "name": "stdout",
     "output_type": "stream",
     "text": [
      "salary may be accepted\n"
     ]
    }
   ],
   "source": [
    "#                                    ANSWER 4 (C)\n",
    "#The raise keyword is used to raise an exception.\n",
    "class validatesalary(Exception):\n",
    "    \n",
    "    def __init__(self,salary):\n",
    "        self.salary = salary\n",
    "        \n",
    "def validaetsalary(rupees):\n",
    "    if rupees < 0 :\n",
    "        raise validatesalary(\"salary in negative is not possible\")\n",
    "    elif rupees > 10000000 :\n",
    "        raise validatesalary(\"salary is so much high which is also not possible\")\n",
    "    else :\n",
    "        print(\"salary may be accepted\")\n",
    "try :\n",
    "    rupees = int(input(\"enter how much salary you want\"))\n",
    "    validaetsalary(rupees)\n",
    "except validatesalary as e :\n",
    "    print(e)"
   ]
  },
  {
   "cell_type": "code",
   "execution_count": 40,
   "id": "1c0a5958-3075-4f5e-8a9e-dcafacd8d99f",
   "metadata": {},
   "outputs": [
    {
     "name": "stdin",
     "output_type": "stream",
     "text": [
      "Enter a number:  22\n"
     ]
    },
    {
     "name": "stdout",
     "output_type": "stream",
     "text": [
      "Eligible to Vote\n"
     ]
    }
   ],
   "source": [
    "#                                       ANSWER 5 \n",
    "#In Python, we can define custom exceptions by creating a new class that is derived from the built-in Exception class.\n",
    "#Built-in exceptions offer information about Python-related problems, and custom exceptions will add information about project-related problems. That way, you can design your code (and traceback, if an exception is raised) in a way that combines Python code with the language of the project.\n",
    "\n",
    "class InvalidAgeException(Exception):\n",
    "    \"Raised when the input value is less than 18\"\n",
    "    pass\n",
    "number = 18\n",
    "try:\n",
    "    input_num = int(input(\"Enter a number: \"))\n",
    "    if input_num < number:\n",
    "        raise InvalidAgeException\n",
    "    else:\n",
    "        print(\"Eligible to Vote\")\n",
    "        \n",
    "except InvalidAgeException:\n",
    "    print(\"Exception occurred: Invalid Age\")"
   ]
  },
  {
   "cell_type": "code",
   "execution_count": 19,
   "id": "d6e378c8-ee5e-4d24-92b0-e3d286238c36",
   "metadata": {},
   "outputs": [
    {
     "name": "stdin",
     "output_type": "stream",
     "text": [
      "enter your number  0\n"
     ]
    },
    {
     "name": "stdout",
     "output_type": "stream",
     "text": [
      "input number is zero try again\n",
      "\n"
     ]
    }
   ],
   "source": [
    "#                             ANSWER 6\n",
    "class error (Exception):\n",
    "    pass\n",
    "class zerodivision (error):\n",
    "    pass\n",
    "try :\n",
    "    num = int (input(\"enter your number \"))\n",
    "    if num  == 0 :\n",
    "        raise zerodivision  \n",
    "except zerodivision:\n",
    "    print (\"input number is zero try again\")\n",
    "    print()"
   ]
  },
  {
   "cell_type": "code",
   "execution_count": null,
   "id": "aa1ba18c-769a-48bc-888a-556eb9bf4634",
   "metadata": {},
   "outputs": [],
   "source": []
  }
 ],
 "metadata": {
  "kernelspec": {
   "display_name": "Python 3 (ipykernel)",
   "language": "python",
   "name": "python3"
  },
  "language_info": {
   "codemirror_mode": {
    "name": "ipython",
    "version": 3
   },
   "file_extension": ".py",
   "mimetype": "text/x-python",
   "name": "python",
   "nbconvert_exporter": "python",
   "pygments_lexer": "ipython3",
   "version": "3.10.8"
  }
 },
 "nbformat": 4,
 "nbformat_minor": 5
}
